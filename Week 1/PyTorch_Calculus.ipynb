{
 "cells": [
  {
   "cell_type": "markdown",
   "metadata": {
    "id": "u8ws7UWjo0e1"
   },
   "source": [
    "# PyTorch Calculus "
   ]
  },
  {
   "cell_type": "markdown",
   "metadata": {
    "id": "eiMvXJv8o0e4"
   },
   "source": [
    "Let us consider a function y = mx + c, the equation of a straight line with slope m and y intercept c. At specific values of x, you get a specific value of y based on m and c. The derivative of this function always returns the slope of the line. Let us define x = 3,m = 4,c = 5 and find the value of y.\n",
    "\n"
   ]
  },
  {
   "cell_type": "code",
   "execution_count": 4,
   "metadata": {
    "colab": {
     "base_uri": "https://localhost:8080/"
    },
    "id": "bc7nEa44o0e6",
    "outputId": "3963b559-e541-462e-a3b5-6024548eaa2e",
    "tags": []
   },
   "outputs": [
    {
     "name": "stdout",
     "output_type": "stream",
     "text": [
      "tensor(17., grad_fn=<AddBackward0>)\n"
     ]
    }
   ],
   "source": [
    "import torch \n",
    "\n",
    "x = torch.tensor(3.0, requires_grad=True)\n",
    "m = torch.tensor(4.0, requires_grad=True)\n",
    "c = torch.tensor(5.0)\n",
    "\n",
    "y = m*x+c\n",
    "\n",
    "print(y)"
   ]
  },
  {
   "cell_type": "code",
   "execution_count": 5,
   "metadata": {
    "tags": []
   },
   "outputs": [
    {
     "name": "stdout",
     "output_type": "stream",
     "text": [
      "x =  tensor(3., requires_grad=True)\n",
      "tensor(38., grad_fn=<AddBackward0>)\n"
     ]
    }
   ],
   "source": [
    "print(\"x = \", x)\n",
    "y = 3 * x ** 2 + 2 * x + 5\n",
    "\n",
    "print(y)"
   ]
  },
  {
   "cell_type": "code",
   "execution_count": null,
   "metadata": {},
   "outputs": [],
   "source": []
  },
  {
   "cell_type": "markdown",
   "metadata": {
    "id": "zmRaJtSvo0e9"
   },
   "source": [
    "# To find the dervative of  with respect to a particular variable, we can call grad function on the variable of choice. Hence, to find , after y.backward(), we can use x.grad\n",
    "\n",
    "$$y' = 6x +2$$\n",
    "\n",
    "With x = 3, then y' = 20"
   ]
  },
  {
   "cell_type": "code",
   "execution_count": 6,
   "metadata": {
    "id": "PruGYtmXo0e-",
    "outputId": "8e257fa6-c4a6-44be-97a4-efd2a0d4f4d2",
    "tags": []
   },
   "outputs": [
    {
     "name": "stdout",
     "output_type": "stream",
     "text": [
      "tensor(20.)\n"
     ]
    }
   ],
   "source": [
    "y.backward(retain_graph=True)\n",
    "print(x.grad)"
   ]
  },
  {
   "cell_type": "markdown",
   "metadata": {
    "id": "mUEudZeKo0e-"
   },
   "source": [
    "## Finding Local Minima and Local Maxima\n",
    "\n",
    "Now we will use a quardratic equation\n",
    "$$y = 3x - 6x^3 - x^4 + 4$$\n",
    "\n",
    "and use PyTorch functions to find it's local minima and maxima"
   ]
  },
  {
   "cell_type": "code",
   "execution_count": 7,
   "metadata": {
    "colab": {
     "base_uri": "https://localhost:8080/"
    },
    "id": "cFQZNWZXo0e_",
    "outputId": "99c9e27f-f07b-43ef-f976-4774621cd176",
    "scrolled": true,
    "tags": []
   },
   "outputs": [
    {
     "name": "stdout",
     "output_type": "stream",
     "text": [
      "<class 'torch.Tensor'>\n"
     ]
    }
   ],
   "source": [
    "import torch\n",
    "import numpy as np\n",
    "import matplotlib.pyplot as plt\n",
    "\n",
    "#set x between -6 and 1, with 10000 intervals\n",
    "X = torch.tensor(np.linspace(start = -6, stop = 1, num = 10000), requires_grad=True)\n",
    "\n",
    "print(type(X))"
   ]
  },
  {
   "cell_type": "code",
   "execution_count": 8,
   "metadata": {},
   "outputs": [
    {
     "data": {
      "text/plain": [
       "tensor([-6.0000, -5.9993, -5.9986,  ...,  0.9986,  0.9993,  1.0000],\n",
       "       dtype=torch.float64, requires_grad=True)"
      ]
     },
     "execution_count": 8,
     "metadata": {},
     "output_type": "execute_result"
    }
   ],
   "source": [
    "X"
   ]
  },
  {
   "cell_type": "code",
   "execution_count": 9,
   "metadata": {
    "tags": []
   },
   "outputs": [],
   "source": [
    "#define equation in python way\n",
    "y = 3 * X - 6 * X ** 3 - X ** 4 + 4"
   ]
  },
  {
   "cell_type": "code",
   "execution_count": 10,
   "metadata": {
    "tags": []
   },
   "outputs": [
    {
     "name": "stdout",
     "output_type": "stream",
     "text": [
      "10000\n"
     ]
    }
   ],
   "source": [
    "print(len(y))"
   ]
  },
  {
   "cell_type": "code",
   "execution_count": 11,
   "metadata": {
    "tags": []
   },
   "outputs": [],
   "source": [
    "#let us run over a for-loop\n",
    "local_min_max = []\n",
    "for i in range(len(y)):\n",
    "    y[i].backward(retain_graph=True)"
   ]
  },
  {
   "cell_type": "code",
   "execution_count": 12,
   "metadata": {
    "tags": []
   },
   "outputs": [
    {
     "name": "stdout",
     "output_type": "stream",
     "text": [
      "(array([2196, 7955, 7956, 7957, 7958, 7959, 7960, 9128, 9129, 9130, 9131,\n",
      "       9132], dtype=int64),)\n"
     ]
    }
   ],
   "source": [
    "threshold = 0.03\n",
    "\n",
    "# Indices where gradient is 0   \n",
    "zeros = np.where(torch.abs(X.grad) <= threshold)\n",
    "print(zeros) #we got index of 3 local minima / maxima"
   ]
  },
  {
   "cell_type": "code",
   "execution_count": 13,
   "metadata": {
    "colab": {
     "base_uri": "https://localhost:8080/",
     "height": 282
    },
    "id": "U-Yi1wsgo0e_",
    "outputId": "1814e1a9-33b6-4ab7-cf7d-f6bcf95cf5bd",
    "tags": []
   },
   "outputs": [],
   "source": [
    "def calculateFunc(x):\n",
    "    \n",
    "    y = 3 * x - 6 * x ** 3 - x ** 4 + 4\n",
    "    #print(\"x = \", x, \"y = \", y)\n",
    "    return y"
   ]
  },
  {
   "cell_type": "code",
   "execution_count": 14,
   "metadata": {
    "id": "EKpoFvGZZWri",
    "tags": []
   },
   "outputs": [
    {
     "name": "stdout",
     "output_type": "stream",
     "text": [
      "10000\n"
     ]
    }
   ],
   "source": [
    "#plotting\n",
    "x = np.linspace(start = -6, stop = 1, num = 10000)\n",
    "print(len(x))"
   ]
  },
  {
   "cell_type": "code",
   "execution_count": 15,
   "metadata": {
    "tags": []
   },
   "outputs": [],
   "source": [
    "y_list = [] #declare a bucket to collect y \n",
    "for each in x:\n",
    "    val = calculateFunc(each)\n",
    "    #print(val)\n",
    "    y_list.append(val)"
   ]
  },
  {
   "cell_type": "code",
   "execution_count": 16,
   "metadata": {
    "tags": []
   },
   "outputs": [
    {
     "data": {
      "text/plain": [
       "[-14.0,\n",
       " -13.846737592877162,\n",
       " -13.693581009873014,\n",
       " -13.540530213942247,\n",
       " -13.387585168043643,\n",
       " -13.234745835142576,\n",
       " -13.082012178209425,\n",
       " -12.929384160220934,\n",
       " -12.776861744159532,\n",
       " -12.62444489301356]"
      ]
     },
     "execution_count": 16,
     "metadata": {},
     "output_type": "execute_result"
    }
   ],
   "source": [
    "#show first 10 value in y_list\n",
    "y_list[:10]"
   ]
  },
  {
   "cell_type": "code",
   "execution_count": 90,
   "metadata": {
    "tags": []
   },
   "outputs": [
    {
     "data": {
      "text/plain": [
       "array([2196, 7955, 7956, 7957, 7958, 7959, 7960, 9128, 9129, 9130, 9131,\n",
       "       9132])"
      ]
     },
     "execution_count": 90,
     "metadata": {},
     "output_type": "execute_result"
    }
   ],
   "source": [
    "zeros[0]"
   ]
  },
  {
   "cell_type": "code",
   "execution_count": 91,
   "metadata": {
    "tags": []
   },
   "outputs": [
    {
     "data": {
      "image/png": "[encoded data removed]",
      "text/plain": [
       "<Figure size 640x480 with 1 Axes>"
      ]
     },
     "metadata": {},
     "output_type": "display_data"
    }
   ],
   "source": [
    "plt.plot(x, y_list, ls='-')    \n",
    "for i in range(len(zeros[0])):\n",
    "    plt.scatter(X[zeros[0][i]].detach().numpy(), calculateFunc(X[zeros[0][i]].detach().numpy()), color=\"Red\")\n",
    "plt.show()"
   ]
  },
  {
   "cell_type": "markdown",
   "metadata": {},
   "source": [
    "# Question: how to determine the maxima only?"
   ]
  }
 ],
 "metadata": {
  "colab": {
   "collapsed_sections": [],
   "name": "PyTorch Calculus.ipynb",
   "provenance": []
  },
  "kernelspec": {
   "display_name": "Python 3 (ipykernel)",
   "language": "python",
   "name": "python3"
  },
  "language_info": {
   "codemirror_mode": {
    "name": "ipython",
    "version": 3
   },
   "file_extension": ".py",
   "mimetype": "text/x-python",
   "name": "python",
   "nbconvert_exporter": "python",
   "pygments_lexer": "ipython3",
   "version": "3.11.5"
  }
 },
 "nbformat": 4,
 "nbformat_minor": 4
}
